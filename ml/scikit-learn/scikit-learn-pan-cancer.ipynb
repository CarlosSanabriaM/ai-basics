{
 "cells": [
  {
   "cell_type": "markdown",
   "metadata": {},
   "source": [
    "# Aprendizaje automático: Opcional scikit-learn"
   ]
  },
  {
   "cell_type": "markdown",
   "metadata": {},
   "source": [
    "**Carlos Sanabria Miranda**  \n",
    "25/12/2018"
   ]
  },
  {
   "cell_type": "code",
   "execution_count": 1,
   "metadata": {
    "ExecuteTime": {
     "end_time": "2018-12-25T16:12:05.353492Z",
     "start_time": "2018-12-25T16:12:03.664264Z"
    }
   },
   "outputs": [],
   "source": [
    "import numpy as np\n",
    "import pandas as pd\n",
    "\n",
    "from scipy.stats import binom_test\n",
    "\n",
    "from sklearn.model_selection import train_test_split, RepeatedKFold, GridSearchCV\n",
    "from sklearn.metrics import make_scorer, cohen_kappa_score, classification_report, confusion_matrix\n",
    "\n",
    "# Models\n",
    "from sklearn.tree import DecisionTreeClassifier\n",
    "from sklearn.neighbors import KNeighborsClassifier\n",
    "from sklearn.neural_network import MLPClassifier\n",
    "from sklearn.svm import LinearSVC\n",
    "\n",
    "# Desactivamos los warnings para que no molesten\n",
    "import warnings\n",
    "warnings.filterwarnings('ignore')"
   ]
  },
  {
   "cell_type": "markdown",
   "metadata": {},
   "source": [
    "## Preparación de los datos"
   ]
  },
  {
   "cell_type": "code",
   "execution_count": 2,
   "metadata": {
    "ExecuteTime": {
     "end_time": "2018-12-25T16:12:18.643902Z",
     "start_time": "2018-12-25T16:12:05.355584Z"
    }
   },
   "outputs": [],
   "source": [
    "# Cargamos los datos\n",
    "geneLevel = pd.read_csv('data.csv')\n",
    "label = pd.read_csv('labels.csv')"
   ]
  },
  {
   "cell_type": "markdown",
   "metadata": {},
   "source": [
    "No los juntamos como sí hicimos en R, ya que scikit-learn necesita los datos separados de su clase para generar los modelos."
   ]
  },
  {
   "cell_type": "code",
   "execution_count": 3,
   "metadata": {
    "ExecuteTime": {
     "end_time": "2018-12-25T16:12:18.787338Z",
     "start_time": "2018-12-25T16:12:18.648404Z"
    }
   },
   "outputs": [],
   "source": [
    "# Eliminamos la primera columna en ambos\n",
    "geneLevel.drop(geneLevel.columns[0], axis=1, inplace=True)\n",
    "label.drop(label.columns[0], axis=1, inplace=True)"
   ]
  },
  {
   "cell_type": "code",
   "execution_count": 4,
   "metadata": {
    "ExecuteTime": {
     "end_time": "2018-12-25T16:12:18.843235Z",
     "start_time": "2018-12-25T16:12:18.790713Z"
    }
   },
   "outputs": [
    {
     "data": {
      "text/html": [
       "<div>\n",
       "<style scoped>\n",
       "    .dataframe tbody tr th:only-of-type {\n",
       "        vertical-align: middle;\n",
       "    }\n",
       "\n",
       "    .dataframe tbody tr th {\n",
       "        vertical-align: top;\n",
       "    }\n",
       "\n",
       "    .dataframe thead th {\n",
       "        text-align: right;\n",
       "    }\n",
       "</style>\n",
       "<table border=\"1\" class=\"dataframe\">\n",
       "  <thead>\n",
       "    <tr style=\"text-align: right;\">\n",
       "      <th></th>\n",
       "      <th>gene_0</th>\n",
       "      <th>gene_1</th>\n",
       "      <th>gene_2</th>\n",
       "      <th>gene_3</th>\n",
       "      <th>gene_4</th>\n",
       "      <th>gene_5</th>\n",
       "      <th>gene_6</th>\n",
       "      <th>gene_7</th>\n",
       "      <th>gene_8</th>\n",
       "      <th>gene_9</th>\n",
       "      <th>...</th>\n",
       "      <th>gene_20521</th>\n",
       "      <th>gene_20522</th>\n",
       "      <th>gene_20523</th>\n",
       "      <th>gene_20524</th>\n",
       "      <th>gene_20525</th>\n",
       "      <th>gene_20526</th>\n",
       "      <th>gene_20527</th>\n",
       "      <th>gene_20528</th>\n",
       "      <th>gene_20529</th>\n",
       "      <th>gene_20530</th>\n",
       "    </tr>\n",
       "  </thead>\n",
       "  <tbody>\n",
       "    <tr>\n",
       "      <th>0</th>\n",
       "      <td>0.0</td>\n",
       "      <td>2.017209</td>\n",
       "      <td>3.265527</td>\n",
       "      <td>5.478487</td>\n",
       "      <td>10.431999</td>\n",
       "      <td>0.0</td>\n",
       "      <td>7.175175</td>\n",
       "      <td>0.591871</td>\n",
       "      <td>0.0</td>\n",
       "      <td>0.0</td>\n",
       "      <td>...</td>\n",
       "      <td>4.926711</td>\n",
       "      <td>8.210257</td>\n",
       "      <td>9.723516</td>\n",
       "      <td>7.220030</td>\n",
       "      <td>9.119813</td>\n",
       "      <td>12.003135</td>\n",
       "      <td>9.650743</td>\n",
       "      <td>8.921326</td>\n",
       "      <td>5.286759</td>\n",
       "      <td>0.0</td>\n",
       "    </tr>\n",
       "    <tr>\n",
       "      <th>1</th>\n",
       "      <td>0.0</td>\n",
       "      <td>0.592732</td>\n",
       "      <td>1.588421</td>\n",
       "      <td>7.586157</td>\n",
       "      <td>9.623011</td>\n",
       "      <td>0.0</td>\n",
       "      <td>6.816049</td>\n",
       "      <td>0.000000</td>\n",
       "      <td>0.0</td>\n",
       "      <td>0.0</td>\n",
       "      <td>...</td>\n",
       "      <td>4.593372</td>\n",
       "      <td>7.323865</td>\n",
       "      <td>9.740931</td>\n",
       "      <td>6.256586</td>\n",
       "      <td>8.381612</td>\n",
       "      <td>12.674552</td>\n",
       "      <td>10.517059</td>\n",
       "      <td>9.397854</td>\n",
       "      <td>2.094168</td>\n",
       "      <td>0.0</td>\n",
       "    </tr>\n",
       "    <tr>\n",
       "      <th>2</th>\n",
       "      <td>0.0</td>\n",
       "      <td>3.511759</td>\n",
       "      <td>4.327199</td>\n",
       "      <td>6.881787</td>\n",
       "      <td>9.870730</td>\n",
       "      <td>0.0</td>\n",
       "      <td>6.972130</td>\n",
       "      <td>0.452595</td>\n",
       "      <td>0.0</td>\n",
       "      <td>0.0</td>\n",
       "      <td>...</td>\n",
       "      <td>5.125213</td>\n",
       "      <td>8.127123</td>\n",
       "      <td>10.908640</td>\n",
       "      <td>5.401607</td>\n",
       "      <td>9.911597</td>\n",
       "      <td>9.045255</td>\n",
       "      <td>9.788359</td>\n",
       "      <td>10.090470</td>\n",
       "      <td>1.683023</td>\n",
       "      <td>0.0</td>\n",
       "    </tr>\n",
       "    <tr>\n",
       "      <th>3</th>\n",
       "      <td>0.0</td>\n",
       "      <td>3.663618</td>\n",
       "      <td>4.507649</td>\n",
       "      <td>6.659068</td>\n",
       "      <td>10.196184</td>\n",
       "      <td>0.0</td>\n",
       "      <td>7.843375</td>\n",
       "      <td>0.434882</td>\n",
       "      <td>0.0</td>\n",
       "      <td>0.0</td>\n",
       "      <td>...</td>\n",
       "      <td>6.076566</td>\n",
       "      <td>8.792959</td>\n",
       "      <td>10.141520</td>\n",
       "      <td>8.942805</td>\n",
       "      <td>9.601208</td>\n",
       "      <td>11.392682</td>\n",
       "      <td>9.694814</td>\n",
       "      <td>9.684365</td>\n",
       "      <td>3.292001</td>\n",
       "      <td>0.0</td>\n",
       "    </tr>\n",
       "    <tr>\n",
       "      <th>4</th>\n",
       "      <td>0.0</td>\n",
       "      <td>2.655741</td>\n",
       "      <td>2.821547</td>\n",
       "      <td>6.539454</td>\n",
       "      <td>9.738265</td>\n",
       "      <td>0.0</td>\n",
       "      <td>6.566967</td>\n",
       "      <td>0.360982</td>\n",
       "      <td>0.0</td>\n",
       "      <td>0.0</td>\n",
       "      <td>...</td>\n",
       "      <td>5.996032</td>\n",
       "      <td>8.891425</td>\n",
       "      <td>10.373790</td>\n",
       "      <td>7.181162</td>\n",
       "      <td>9.846910</td>\n",
       "      <td>11.922439</td>\n",
       "      <td>9.217749</td>\n",
       "      <td>9.461191</td>\n",
       "      <td>5.110372</td>\n",
       "      <td>0.0</td>\n",
       "    </tr>\n",
       "  </tbody>\n",
       "</table>\n",
       "<p>5 rows × 20531 columns</p>\n",
       "</div>"
      ],
      "text/plain": [
       "   gene_0    gene_1    gene_2    gene_3     gene_4  gene_5    gene_6  \\\n",
       "0     0.0  2.017209  3.265527  5.478487  10.431999     0.0  7.175175   \n",
       "1     0.0  0.592732  1.588421  7.586157   9.623011     0.0  6.816049   \n",
       "2     0.0  3.511759  4.327199  6.881787   9.870730     0.0  6.972130   \n",
       "3     0.0  3.663618  4.507649  6.659068  10.196184     0.0  7.843375   \n",
       "4     0.0  2.655741  2.821547  6.539454   9.738265     0.0  6.566967   \n",
       "\n",
       "     gene_7  gene_8  gene_9     ...      gene_20521  gene_20522  gene_20523  \\\n",
       "0  0.591871     0.0     0.0     ...        4.926711    8.210257    9.723516   \n",
       "1  0.000000     0.0     0.0     ...        4.593372    7.323865    9.740931   \n",
       "2  0.452595     0.0     0.0     ...        5.125213    8.127123   10.908640   \n",
       "3  0.434882     0.0     0.0     ...        6.076566    8.792959   10.141520   \n",
       "4  0.360982     0.0     0.0     ...        5.996032    8.891425   10.373790   \n",
       "\n",
       "   gene_20524  gene_20525  gene_20526  gene_20527  gene_20528  gene_20529  \\\n",
       "0    7.220030    9.119813   12.003135    9.650743    8.921326    5.286759   \n",
       "1    6.256586    8.381612   12.674552   10.517059    9.397854    2.094168   \n",
       "2    5.401607    9.911597    9.045255    9.788359   10.090470    1.683023   \n",
       "3    8.942805    9.601208   11.392682    9.694814    9.684365    3.292001   \n",
       "4    7.181162    9.846910   11.922439    9.217749    9.461191    5.110372   \n",
       "\n",
       "   gene_20530  \n",
       "0         0.0  \n",
       "1         0.0  \n",
       "2         0.0  \n",
       "3         0.0  \n",
       "4         0.0  \n",
       "\n",
       "[5 rows x 20531 columns]"
      ]
     },
     "execution_count": 4,
     "metadata": {},
     "output_type": "execute_result"
    }
   ],
   "source": [
    "geneLevel.head()"
   ]
  },
  {
   "cell_type": "code",
   "execution_count": 5,
   "metadata": {
    "ExecuteTime": {
     "end_time": "2018-12-25T16:12:18.857699Z",
     "start_time": "2018-12-25T16:12:18.847357Z"
    }
   },
   "outputs": [
    {
     "data": {
      "text/html": [
       "<div>\n",
       "<style scoped>\n",
       "    .dataframe tbody tr th:only-of-type {\n",
       "        vertical-align: middle;\n",
       "    }\n",
       "\n",
       "    .dataframe tbody tr th {\n",
       "        vertical-align: top;\n",
       "    }\n",
       "\n",
       "    .dataframe thead th {\n",
       "        text-align: right;\n",
       "    }\n",
       "</style>\n",
       "<table border=\"1\" class=\"dataframe\">\n",
       "  <thead>\n",
       "    <tr style=\"text-align: right;\">\n",
       "      <th></th>\n",
       "      <th>Class</th>\n",
       "    </tr>\n",
       "  </thead>\n",
       "  <tbody>\n",
       "    <tr>\n",
       "      <th>0</th>\n",
       "      <td>PRAD</td>\n",
       "    </tr>\n",
       "    <tr>\n",
       "      <th>1</th>\n",
       "      <td>LUAD</td>\n",
       "    </tr>\n",
       "    <tr>\n",
       "      <th>2</th>\n",
       "      <td>PRAD</td>\n",
       "    </tr>\n",
       "    <tr>\n",
       "      <th>3</th>\n",
       "      <td>PRAD</td>\n",
       "    </tr>\n",
       "    <tr>\n",
       "      <th>4</th>\n",
       "      <td>BRCA</td>\n",
       "    </tr>\n",
       "  </tbody>\n",
       "</table>\n",
       "</div>"
      ],
      "text/plain": [
       "  Class\n",
       "0  PRAD\n",
       "1  LUAD\n",
       "2  PRAD\n",
       "3  PRAD\n",
       "4  BRCA"
      ]
     },
     "execution_count": 5,
     "metadata": {},
     "output_type": "execute_result"
    }
   ],
   "source": [
    "label.head()"
   ]
  },
  {
   "cell_type": "code",
   "execution_count": 6,
   "metadata": {
    "ExecuteTime": {
     "end_time": "2018-12-25T16:12:18.865895Z",
     "start_time": "2018-12-25T16:12:18.860144Z"
    }
   },
   "outputs": [],
   "source": [
    "# Se van a usar 100 variables, elegidas en función del UO\n",
    "np.random.seed(250707)\n",
    "# Genera 100 números entre 0 y num_columnas-1, sin repetir\n",
    "random_column_indexes = np.random.choice(\n",
    "    geneLevel.shape[1], 100, replace=False)"
   ]
  },
  {
   "cell_type": "code",
   "execution_count": 7,
   "metadata": {
    "ExecuteTime": {
     "end_time": "2018-12-25T16:12:18.873485Z",
     "start_time": "2018-12-25T16:12:18.868418Z"
    }
   },
   "outputs": [
    {
     "data": {
      "text/plain": [
       "100"
      ]
     },
     "execution_count": 7,
     "metadata": {},
     "output_type": "execute_result"
    }
   ],
   "source": [
    "random_column_indexes.size"
   ]
  },
  {
   "cell_type": "code",
   "execution_count": 8,
   "metadata": {
    "ExecuteTime": {
     "end_time": "2018-12-25T16:12:18.882989Z",
     "start_time": "2018-12-25T16:12:18.876374Z"
    }
   },
   "outputs": [
    {
     "data": {
      "text/plain": [
       "array([ 1546,  2896,  9675,  2812, 13795, 13156,  1852, 14123, 20474,\n",
       "       10982, 14170, 18817,  9348, 13265,  5608,   191, 18385,  7878,\n",
       "        3422,  5762,  1888, 15096, 16697,   512,  4089,  7058, 16563,\n",
       "       11236, 11627,  3819,  7669, 11426,  6628, 14495,  9488,  5215,\n",
       "       19064, 19068,  2099, 15670, 15950, 14524, 19226,  4228, 14075,\n",
       "       11922,  3190, 13990, 14105, 13602, 17898,  9844, 16032,  6973,\n",
       "       17398,   334, 17564, 17353,  5003,   749, 12600, 20254,  6352,\n",
       "        8770,  8895,  2321, 16695,  6135, 12670, 18452,  6078, 10463,\n",
       "       11322,  3115, 14354,  6077, 15422, 13465, 19201,  3932, 15161,\n",
       "       13545, 18526,  2851,  5141, 13038, 14894,  9399,  5741, 15973,\n",
       "       16275,  4250,  7989, 17071, 10283,  3357, 17698, 15032, 16532,\n",
       "        5631])"
      ]
     },
     "execution_count": 8,
     "metadata": {},
     "output_type": "execute_result"
    }
   ],
   "source": [
    "random_column_indexes"
   ]
  },
  {
   "cell_type": "code",
   "execution_count": 9,
   "metadata": {
    "ExecuteTime": {
     "end_time": "2018-12-25T16:12:18.910070Z",
     "start_time": "2018-12-25T16:12:18.885595Z"
    }
   },
   "outputs": [
    {
     "data": {
      "text/html": [
       "<div>\n",
       "<style scoped>\n",
       "    .dataframe tbody tr th:only-of-type {\n",
       "        vertical-align: middle;\n",
       "    }\n",
       "\n",
       "    .dataframe tbody tr th {\n",
       "        vertical-align: top;\n",
       "    }\n",
       "\n",
       "    .dataframe thead th {\n",
       "        text-align: right;\n",
       "    }\n",
       "</style>\n",
       "<table border=\"1\" class=\"dataframe\">\n",
       "  <thead>\n",
       "    <tr style=\"text-align: right;\">\n",
       "      <th></th>\n",
       "      <th>gene_1546</th>\n",
       "      <th>gene_2896</th>\n",
       "      <th>gene_9675</th>\n",
       "      <th>gene_2812</th>\n",
       "      <th>gene_13795</th>\n",
       "      <th>gene_13156</th>\n",
       "      <th>gene_1852</th>\n",
       "      <th>gene_14123</th>\n",
       "      <th>gene_20474</th>\n",
       "      <th>gene_10982</th>\n",
       "      <th>...</th>\n",
       "      <th>gene_16275</th>\n",
       "      <th>gene_4250</th>\n",
       "      <th>gene_7989</th>\n",
       "      <th>gene_17071</th>\n",
       "      <th>gene_10283</th>\n",
       "      <th>gene_3357</th>\n",
       "      <th>gene_17698</th>\n",
       "      <th>gene_15032</th>\n",
       "      <th>gene_16532</th>\n",
       "      <th>gene_5631</th>\n",
       "    </tr>\n",
       "  </thead>\n",
       "  <tbody>\n",
       "    <tr>\n",
       "      <th>0</th>\n",
       "      <td>7.450832</td>\n",
       "      <td>0.591871</td>\n",
       "      <td>3.105561</td>\n",
       "      <td>8.955624</td>\n",
       "      <td>9.143294</td>\n",
       "      <td>0.591871</td>\n",
       "      <td>8.622220</td>\n",
       "      <td>0.591871</td>\n",
       "      <td>9.309335</td>\n",
       "      <td>9.102865</td>\n",
       "      <td>...</td>\n",
       "      <td>9.822995</td>\n",
       "      <td>9.791142</td>\n",
       "      <td>11.567148</td>\n",
       "      <td>0.0</td>\n",
       "      <td>0.00000</td>\n",
       "      <td>8.406303</td>\n",
       "      <td>8.298887</td>\n",
       "      <td>11.042207</td>\n",
       "      <td>7.075629</td>\n",
       "      <td>8.159982</td>\n",
       "    </tr>\n",
       "    <tr>\n",
       "      <th>1</th>\n",
       "      <td>8.674976</td>\n",
       "      <td>0.000000</td>\n",
       "      <td>0.587845</td>\n",
       "      <td>8.552750</td>\n",
       "      <td>8.785184</td>\n",
       "      <td>0.000000</td>\n",
       "      <td>8.505601</td>\n",
       "      <td>0.000000</td>\n",
       "      <td>11.583600</td>\n",
       "      <td>11.085300</td>\n",
       "      <td>...</td>\n",
       "      <td>9.455843</td>\n",
       "      <td>10.732854</td>\n",
       "      <td>11.334776</td>\n",
       "      <td>0.0</td>\n",
       "      <td>1.17479</td>\n",
       "      <td>11.963875</td>\n",
       "      <td>8.862842</td>\n",
       "      <td>9.962630</td>\n",
       "      <td>6.298680</td>\n",
       "      <td>9.334065</td>\n",
       "    </tr>\n",
       "    <tr>\n",
       "      <th>2</th>\n",
       "      <td>2.622673</td>\n",
       "      <td>0.452595</td>\n",
       "      <td>4.280095</td>\n",
       "      <td>7.792647</td>\n",
       "      <td>7.878738</td>\n",
       "      <td>0.000000</td>\n",
       "      <td>9.796153</td>\n",
       "      <td>0.000000</td>\n",
       "      <td>8.919146</td>\n",
       "      <td>11.759576</td>\n",
       "      <td>...</td>\n",
       "      <td>10.049413</td>\n",
       "      <td>11.187637</td>\n",
       "      <td>12.097140</td>\n",
       "      <td>0.0</td>\n",
       "      <td>0.00000</td>\n",
       "      <td>7.547581</td>\n",
       "      <td>8.010332</td>\n",
       "      <td>10.286003</td>\n",
       "      <td>5.766373</td>\n",
       "      <td>9.115944</td>\n",
       "    </tr>\n",
       "    <tr>\n",
       "      <th>3</th>\n",
       "      <td>5.177081</td>\n",
       "      <td>0.000000</td>\n",
       "      <td>4.737914</td>\n",
       "      <td>8.871995</td>\n",
       "      <td>8.317494</td>\n",
       "      <td>0.000000</td>\n",
       "      <td>8.523237</td>\n",
       "      <td>0.000000</td>\n",
       "      <td>10.724863</td>\n",
       "      <td>11.349569</td>\n",
       "      <td>...</td>\n",
       "      <td>9.841981</td>\n",
       "      <td>10.054957</td>\n",
       "      <td>11.910616</td>\n",
       "      <td>0.0</td>\n",
       "      <td>0.00000</td>\n",
       "      <td>7.841168</td>\n",
       "      <td>8.205041</td>\n",
       "      <td>9.575118</td>\n",
       "      <td>10.435972</td>\n",
       "      <td>8.893499</td>\n",
       "    </tr>\n",
       "    <tr>\n",
       "      <th>4</th>\n",
       "      <td>7.415412</td>\n",
       "      <td>0.360982</td>\n",
       "      <td>0.649386</td>\n",
       "      <td>6.911620</td>\n",
       "      <td>7.746669</td>\n",
       "      <td>0.000000</td>\n",
       "      <td>8.641206</td>\n",
       "      <td>0.360982</td>\n",
       "      <td>11.240040</td>\n",
       "      <td>11.463984</td>\n",
       "      <td>...</td>\n",
       "      <td>9.601890</td>\n",
       "      <td>10.571885</td>\n",
       "      <td>12.005877</td>\n",
       "      <td>0.0</td>\n",
       "      <td>0.00000</td>\n",
       "      <td>8.025367</td>\n",
       "      <td>8.875795</td>\n",
       "      <td>9.220523</td>\n",
       "      <td>5.909982</td>\n",
       "      <td>9.358097</td>\n",
       "    </tr>\n",
       "  </tbody>\n",
       "</table>\n",
       "<p>5 rows × 100 columns</p>\n",
       "</div>"
      ],
      "text/plain": [
       "   gene_1546  gene_2896  gene_9675  gene_2812  gene_13795  gene_13156  \\\n",
       "0   7.450832   0.591871   3.105561   8.955624    9.143294    0.591871   \n",
       "1   8.674976   0.000000   0.587845   8.552750    8.785184    0.000000   \n",
       "2   2.622673   0.452595   4.280095   7.792647    7.878738    0.000000   \n",
       "3   5.177081   0.000000   4.737914   8.871995    8.317494    0.000000   \n",
       "4   7.415412   0.360982   0.649386   6.911620    7.746669    0.000000   \n",
       "\n",
       "   gene_1852  gene_14123  gene_20474  gene_10982    ...      gene_16275  \\\n",
       "0   8.622220    0.591871    9.309335    9.102865    ...        9.822995   \n",
       "1   8.505601    0.000000   11.583600   11.085300    ...        9.455843   \n",
       "2   9.796153    0.000000    8.919146   11.759576    ...       10.049413   \n",
       "3   8.523237    0.000000   10.724863   11.349569    ...        9.841981   \n",
       "4   8.641206    0.360982   11.240040   11.463984    ...        9.601890   \n",
       "\n",
       "   gene_4250  gene_7989  gene_17071  gene_10283  gene_3357  gene_17698  \\\n",
       "0   9.791142  11.567148         0.0     0.00000   8.406303    8.298887   \n",
       "1  10.732854  11.334776         0.0     1.17479  11.963875    8.862842   \n",
       "2  11.187637  12.097140         0.0     0.00000   7.547581    8.010332   \n",
       "3  10.054957  11.910616         0.0     0.00000   7.841168    8.205041   \n",
       "4  10.571885  12.005877         0.0     0.00000   8.025367    8.875795   \n",
       "\n",
       "   gene_15032  gene_16532  gene_5631  \n",
       "0   11.042207    7.075629   8.159982  \n",
       "1    9.962630    6.298680   9.334065  \n",
       "2   10.286003    5.766373   9.115944  \n",
       "3    9.575118   10.435972   8.893499  \n",
       "4    9.220523    5.909982   9.358097  \n",
       "\n",
       "[5 rows x 100 columns]"
      ]
     },
     "execution_count": 9,
     "metadata": {},
     "output_type": "execute_result"
    }
   ],
   "source": [
    "# Generamos un nuevo DataFrame con las columnas seleccionadas previamente\n",
    "geneLevel = geneLevel.iloc[:, random_column_indexes].copy()\n",
    "geneLevel.head()"
   ]
  },
  {
   "cell_type": "markdown",
   "metadata": {},
   "source": [
    "## Esquema de evaluación"
   ]
  },
  {
   "cell_type": "code",
   "execution_count": 10,
   "metadata": {
    "ExecuteTime": {
     "end_time": "2018-12-25T16:12:18.918746Z",
     "start_time": "2018-12-25T16:12:18.912302Z"
    }
   },
   "outputs": [],
   "source": [
    "# División entrenamiento/test, 80%/20%\n",
    "X_train, X_test, y_train, y_test = train_test_split(\n",
    "    geneLevel, label, test_size=0.2, random_state=122)"
   ]
  },
  {
   "cell_type": "code",
   "execution_count": 11,
   "metadata": {
    "ExecuteTime": {
     "end_time": "2018-12-25T16:12:18.925525Z",
     "start_time": "2018-12-25T16:12:18.920697Z"
    }
   },
   "outputs": [
    {
     "data": {
      "text/plain": [
       "801"
      ]
     },
     "execution_count": 11,
     "metadata": {},
     "output_type": "execute_result"
    }
   ],
   "source": [
    "# Revisamos que el número de instancias totales es el mismo\n",
    "X_train.shape[0]+X_test.shape[0]"
   ]
  },
  {
   "cell_type": "code",
   "execution_count": 12,
   "metadata": {
    "ExecuteTime": {
     "end_time": "2018-12-25T16:12:18.934003Z",
     "start_time": "2018-12-25T16:12:18.928610Z"
    }
   },
   "outputs": [
    {
     "data": {
      "text/plain": [
       "801"
      ]
     },
     "execution_count": 12,
     "metadata": {},
     "output_type": "execute_result"
    }
   ],
   "source": [
    "y_train.shape[0]+y_test.shape[0]"
   ]
  },
  {
   "cell_type": "code",
   "execution_count": 13,
   "metadata": {
    "ExecuteTime": {
     "end_time": "2018-12-25T16:12:18.944851Z",
     "start_time": "2018-12-25T16:12:18.935952Z"
    }
   },
   "outputs": [],
   "source": [
    "# Eliminamos las columnas con todo 0, para que no haya problemas con ciertos algoritmos\n",
    "X_train = X_train.loc[:, (X_train != 0).any(axis=0)]\n",
    "X_test = X_test.loc[:, (X_test != 0).any(axis=0)]"
   ]
  },
  {
   "cell_type": "markdown",
   "metadata": {},
   "source": [
    "En scikit-learn el método de validación Bootstrap está obsoleto desde la versión 0.15, por lo que en su lugar se utilizará validación cruzada con repeticiones, con un k grande, pero tampoco demasiado grande, para que el tiempo de computación sea aceptable."
   ]
  },
  {
   "cell_type": "code",
   "execution_count": 14,
   "metadata": {
    "ExecuteTime": {
     "end_time": "2018-12-25T16:12:18.950417Z",
     "start_time": "2018-12-25T16:12:18.946687Z"
    }
   },
   "outputs": [],
   "source": [
    "# n_splits = k\n",
    "repeated_cv = RepeatedKFold(n_splits=20, n_repeats=3, random_state=122)"
   ]
  },
  {
   "cell_type": "markdown",
   "metadata": {},
   "source": [
    "## Métrica utilizada para comparar los modelos"
   ]
  },
  {
   "cell_type": "code",
   "execution_count": 15,
   "metadata": {
    "ExecuteTime": {
     "end_time": "2018-12-25T16:12:18.956746Z",
     "start_time": "2018-12-25T16:12:18.952632Z"
    }
   },
   "outputs": [],
   "source": [
    "kappa_scorer = make_scorer(cohen_kappa_score)"
   ]
  },
  {
   "cell_type": "markdown",
   "metadata": {},
   "source": [
    "## Generación de los modelos"
   ]
  },
  {
   "cell_type": "markdown",
   "metadata": {},
   "source": [
    "### Funciones de utilidades"
   ]
  },
  {
   "cell_type": "code",
   "execution_count": 16,
   "metadata": {
    "ExecuteTime": {
     "end_time": "2018-12-25T16:12:18.973865Z",
     "start_time": "2018-12-25T16:12:18.959530Z"
    }
   },
   "outputs": [],
   "source": [
    "# Funciones para mostrar los resultados de la validación interna y externa\n",
    "\n",
    "\n",
    "def internal_validation(grid_obj):\n",
    "    \"\"\"This function shows the results of the internal validation of the model.\n",
    "    \"\"\"\n",
    "    metric_name = grid_obj.scoring._score_func.__name__\n",
    "    print('---------------------------------------------------------')\n",
    "    print('|                  Internal Validation                  |')\n",
    "    print('---------------------------------------------------------')\n",
    "    print()\n",
    "    print(\"Grid scores on training set:\")\n",
    "    print()\n",
    "    print(\"| \" + metric_name + \" |\")\n",
    "    print(\"---------------------\")\n",
    "    means = grid_obj.cv_results_['mean_test_score']\n",
    "    stds = grid_obj.cv_results_['std_test_score']\n",
    "    for mean, std, params in zip(means, stds, grid_obj.cv_results_['params']):\n",
    "        print(\"%0.8f (+/-%0.03f) for %r\"\n",
    "              % (mean, std * 2, params))\n",
    "    print()\n",
    "    print(\"Best parameters set found on training set for metric \" + metric_name + \":\")\n",
    "    print(grid_obj.best_params_)\n",
    "    print(metric_name + \": \" + str(grid_obj.best_score_))\n",
    "    print()\n",
    "\n",
    "\n",
    "def external_validation(grid_obj, X_test, y_test):\n",
    "    \"\"\"This function shows the results of the external validation of the model.\n",
    "    \"\"\"\n",
    "    metric_name = grid_obj.scoring._score_func.__name__\n",
    "    # Realizamos la predicción con el conjunto de test usando el mejor modelo encontrado\n",
    "    y_true, y_pred = y_test, grid_obj.predict(X_test)\n",
    "\n",
    "    print('---------------------------------------------------------')\n",
    "    print('|                  External Validation                  |')\n",
    "    print('---------------------------------------------------------')\n",
    "    print()\n",
    "    print(\"Confusion matrix:\")\n",
    "    print(confusion_matrix(y_true, y_pred))\n",
    "    print()\n",
    "    print(classification_report(y_true, y_pred))\n",
    "    print()\n",
    "    print(metric_name + \" on the testing set:\")\n",
    "    print(grid_obj.scoring._score_func(y_true, y_pred))\n",
    "    print()\n",
    "\n",
    "\n",
    "def print_GridSearchCV_results(grid_obj, X_test, y_test):\n",
    "    \"\"\"This function shows the results of the internal and external validation of the model.\n",
    "    \"\"\"\n",
    "    internal_validation(grid_obj)\n",
    "    external_validation(grid_obj, X_test, y_test)"
   ]
  },
  {
   "cell_type": "markdown",
   "metadata": {
    "ExecuteTime": {
     "end_time": "2018-12-24T14:54:48.057028Z",
     "start_time": "2018-12-24T14:54:48.053696Z"
    }
   },
   "source": [
    "### Árboles de decisión (DT)"
   ]
  },
  {
   "cell_type": "markdown",
   "metadata": {},
   "source": [
    "Según la documentación, scikit-learn sólo dispone de un tipo de árbol de decisión, que utiliza el algoritmo CART. Aun así, la clase DecisionTreeClassifier permite seleccionar qué tipo de métrica usar para generar el árbol entre Gini e Information Gain."
   ]
  },
  {
   "cell_type": "code",
   "execution_count": 17,
   "metadata": {
    "ExecuteTime": {
     "end_time": "2018-12-25T16:12:18.990186Z",
     "start_time": "2018-12-25T16:12:18.985196Z"
    },
    "scrolled": false
   },
   "outputs": [],
   "source": [
    "# Seleccionamos como clasificador: árbol de decisión\n",
    "dt_clf = DecisionTreeClassifier(random_state=122)\n",
    "\n",
    "# Seleccionamos algunos parámetros para probar\n",
    "dt_parameters = {'criterion': ['entropy', 'gini'],  # métrica utilizada para generar el árbol\n",
    "                 'max_depth': np.arange(6, 16, 2),  # máxima profundidad\n",
    "                 # min de instancias en cada hoja\n",
    "                 'min_samples_leaf': np.arange(1, 8, 2)\n",
    "                 }"
   ]
  },
  {
   "cell_type": "code",
   "execution_count": null,
   "metadata": {
    "ExecuteTime": {
     "end_time": "2018-12-25T16:22:11.541410Z",
     "start_time": "2018-12-25T16:21:32.438Z"
    }
   },
   "outputs": [],
   "source": [
    "# Utilizamos GridSearchCV para evaluar las combinaciones de los parámetros,\n",
    "# usando el esquema de validación cruzada definido previamente (3 rep, k=20)\n",
    "dt_grid_obj = GridSearchCV(dt_clf, dt_parameters,\n",
    "                           cv=repeated_cv, scoring=kappa_scorer)\n",
    "dt_grid_obj.fit(X_train, y_train)"
   ]
  },
  {
   "cell_type": "code",
   "execution_count": 35,
   "metadata": {
    "ExecuteTime": {
     "end_time": "2018-12-25T16:22:19.097747Z",
     "start_time": "2018-12-25T16:22:19.077421Z"
    }
   },
   "outputs": [
    {
     "name": "stdout",
     "output_type": "stream",
     "text": [
      "---------------------------------------------------------\n",
      "|                  Internal Validation                  |\n",
      "---------------------------------------------------------\n",
      "\n",
      "Grid scores on training set:\n",
      "\n",
      "| cohen_kappa_score |\n",
      "---------------------\n",
      "0.84884722 (+/-0.154) for {'criterion': 'entropy', 'max_depth': 6, 'min_samples_leaf': 1}\n",
      "0.84595601 (+/-0.153) for {'criterion': 'entropy', 'max_depth': 6, 'min_samples_leaf': 3}\n",
      "0.85137476 (+/-0.159) for {'criterion': 'entropy', 'max_depth': 6, 'min_samples_leaf': 5}\n",
      "0.85347507 (+/-0.152) for {'criterion': 'entropy', 'max_depth': 6, 'min_samples_leaf': 7}\n",
      "0.84976757 (+/-0.155) for {'criterion': 'entropy', 'max_depth': 8, 'min_samples_leaf': 1}\n",
      "0.84626930 (+/-0.146) for {'criterion': 'entropy', 'max_depth': 8, 'min_samples_leaf': 3}\n",
      "0.85062447 (+/-0.161) for {'criterion': 'entropy', 'max_depth': 8, 'min_samples_leaf': 5}\n",
      "0.85276761 (+/-0.143) for {'criterion': 'entropy', 'max_depth': 8, 'min_samples_leaf': 7}\n",
      "0.83987871 (+/-0.150) for {'criterion': 'entropy', 'max_depth': 10, 'min_samples_leaf': 1}\n",
      "0.84583021 (+/-0.144) for {'criterion': 'entropy', 'max_depth': 10, 'min_samples_leaf': 3}\n",
      "0.85062447 (+/-0.161) for {'criterion': 'entropy', 'max_depth': 10, 'min_samples_leaf': 5}\n",
      "0.85276761 (+/-0.143) for {'criterion': 'entropy', 'max_depth': 10, 'min_samples_leaf': 7}\n",
      "0.83987871 (+/-0.150) for {'criterion': 'entropy', 'max_depth': 12, 'min_samples_leaf': 1}\n",
      "0.84583021 (+/-0.144) for {'criterion': 'entropy', 'max_depth': 12, 'min_samples_leaf': 3}\n",
      "0.85062447 (+/-0.161) for {'criterion': 'entropy', 'max_depth': 12, 'min_samples_leaf': 5}\n",
      "0.85276761 (+/-0.143) for {'criterion': 'entropy', 'max_depth': 12, 'min_samples_leaf': 7}\n",
      "0.83987871 (+/-0.150) for {'criterion': 'entropy', 'max_depth': 14, 'min_samples_leaf': 1}\n",
      "0.84583021 (+/-0.144) for {'criterion': 'entropy', 'max_depth': 14, 'min_samples_leaf': 3}\n",
      "0.85062447 (+/-0.161) for {'criterion': 'entropy', 'max_depth': 14, 'min_samples_leaf': 5}\n",
      "0.85276761 (+/-0.143) for {'criterion': 'entropy', 'max_depth': 14, 'min_samples_leaf': 7}\n",
      "0.82894356 (+/-0.152) for {'criterion': 'gini', 'max_depth': 6, 'min_samples_leaf': 1}\n",
      "0.83530985 (+/-0.150) for {'criterion': 'gini', 'max_depth': 6, 'min_samples_leaf': 3}\n",
      "0.83888167 (+/-0.158) for {'criterion': 'gini', 'max_depth': 6, 'min_samples_leaf': 5}\n",
      "0.84911093 (+/-0.160) for {'criterion': 'gini', 'max_depth': 6, 'min_samples_leaf': 7}\n",
      "0.84182425 (+/-0.151) for {'criterion': 'gini', 'max_depth': 8, 'min_samples_leaf': 1}\n",
      "0.84641641 (+/-0.147) for {'criterion': 'gini', 'max_depth': 8, 'min_samples_leaf': 3}\n",
      "0.85125099 (+/-0.156) for {'criterion': 'gini', 'max_depth': 8, 'min_samples_leaf': 5}\n",
      "0.86141144 (+/-0.152) for {'criterion': 'gini', 'max_depth': 8, 'min_samples_leaf': 7}\n",
      "0.83803536 (+/-0.149) for {'criterion': 'gini', 'max_depth': 10, 'min_samples_leaf': 1}\n",
      "0.84729934 (+/-0.148) for {'criterion': 'gini', 'max_depth': 10, 'min_samples_leaf': 3}\n",
      "0.84573125 (+/-0.155) for {'criterion': 'gini', 'max_depth': 10, 'min_samples_leaf': 5}\n",
      "0.86003123 (+/-0.153) for {'criterion': 'gini', 'max_depth': 10, 'min_samples_leaf': 7}\n",
      "0.83487655 (+/-0.161) for {'criterion': 'gini', 'max_depth': 12, 'min_samples_leaf': 1}\n",
      "0.84590466 (+/-0.147) for {'criterion': 'gini', 'max_depth': 12, 'min_samples_leaf': 3}\n",
      "0.84573125 (+/-0.155) for {'criterion': 'gini', 'max_depth': 12, 'min_samples_leaf': 5}\n",
      "0.86003123 (+/-0.153) for {'criterion': 'gini', 'max_depth': 12, 'min_samples_leaf': 7}\n",
      "0.83619889 (+/-0.157) for {'criterion': 'gini', 'max_depth': 14, 'min_samples_leaf': 1}\n",
      "0.84590466 (+/-0.147) for {'criterion': 'gini', 'max_depth': 14, 'min_samples_leaf': 3}\n",
      "0.84573125 (+/-0.155) for {'criterion': 'gini', 'max_depth': 14, 'min_samples_leaf': 5}\n",
      "0.86003123 (+/-0.153) for {'criterion': 'gini', 'max_depth': 14, 'min_samples_leaf': 7}\n",
      "\n",
      "Best parameters set found on training set for metric cohen_kappa_score:\n",
      "{'criterion': 'gini', 'max_depth': 8, 'min_samples_leaf': 7}\n",
      "cohen_kappa_score: 0.8614114407374465\n",
      "\n",
      "---------------------------------------------------------\n",
      "|                  External Validation                  |\n",
      "---------------------------------------------------------\n",
      "\n",
      "Confusion matrix:\n",
      "[[55  0  0  1  5]\n",
      " [ 2 13  0  0  1]\n",
      " [ 0  0 27  1  0]\n",
      " [ 3  0  1 29  0]\n",
      " [ 2  0  0  0 21]]\n",
      "\n",
      "              precision    recall  f1-score   support\n",
      "\n",
      "        BRCA       0.89      0.90      0.89        61\n",
      "        COAD       1.00      0.81      0.90        16\n",
      "        KIRC       0.96      0.96      0.96        28\n",
      "        LUAD       0.94      0.88      0.91        33\n",
      "        PRAD       0.78      0.91      0.84        23\n",
      "\n",
      "   micro avg       0.90      0.90      0.90       161\n",
      "   macro avg       0.91      0.89      0.90       161\n",
      "weighted avg       0.91      0.90      0.90       161\n",
      "\n",
      "\n",
      "cohen_kappa_score on the testing set:\n",
      "0.8679177562426293\n",
      "\n"
     ]
    }
   ],
   "source": [
    "# Mostramos los resultados\n",
    "print_GridSearchCV_results(dt_grid_obj, X_test, y_test)"
   ]
  },
  {
   "cell_type": "code",
   "execution_count": 36,
   "metadata": {
    "ExecuteTime": {
     "end_time": "2018-12-25T16:22:26.730575Z",
     "start_time": "2018-12-25T16:22:26.727425Z"
    }
   },
   "outputs": [],
   "source": [
    "# Como clasificador final escogemos aquel con la mejor combinación de parámetros encontrada\n",
    "dt_clf = dt_grid_obj.best_estimator_"
   ]
  },
  {
   "cell_type": "markdown",
   "metadata": {},
   "source": [
    "### Vecinos más cercanos (kNN)"
   ]
  },
  {
   "cell_type": "code",
   "execution_count": 37,
   "metadata": {
    "ExecuteTime": {
     "end_time": "2018-12-25T16:22:49.521740Z",
     "start_time": "2018-12-25T16:22:49.516360Z"
    }
   },
   "outputs": [],
   "source": [
    "np.random.seed(122)\n",
    "\n",
    "# Seleccionamos como clasificador: kNN\n",
    "knn_clf = KNeighborsClassifier()\n",
    "\n",
    "# Seleccionamos algunos parámetros para probar\n",
    "knn_parameters = {'n_neighbors': np.arange(5, 20, 2)}  # k"
   ]
  },
  {
   "cell_type": "code",
   "execution_count": 38,
   "metadata": {
    "ExecuteTime": {
     "end_time": "2018-12-25T16:23:28.508046Z",
     "start_time": "2018-12-25T16:22:50.627419Z"
    }
   },
   "outputs": [
    {
     "data": {
      "text/plain": [
       "GridSearchCV(cv=<sklearn.model_selection._split.RepeatedKFold object at 0x1a24cb54e0>,\n",
       "       error_score='raise-deprecating',\n",
       "       estimator=KNeighborsClassifier(algorithm='auto', leaf_size=30, metric='minkowski',\n",
       "           metric_params=None, n_jobs=None, n_neighbors=5, p=2,\n",
       "           weights='uniform'),\n",
       "       fit_params=None, iid='warn', n_jobs=None,\n",
       "       param_grid={'n_neighbors': array([ 5,  7,  9, 11, 13, 15, 17, 19])},\n",
       "       pre_dispatch='2*n_jobs', refit=True, return_train_score='warn',\n",
       "       scoring=make_scorer(cohen_kappa_score), verbose=0)"
      ]
     },
     "execution_count": 38,
     "metadata": {},
     "output_type": "execute_result"
    }
   ],
   "source": [
    "# Utilizamos GridSearchCV para evaluar las combinaciones de los parámetros,\n",
    "# usando el esquema de validación cruzada definido previamente (3 rep, k=20)\n",
    "knn_grid_obj = GridSearchCV(knn_clf, knn_parameters,\n",
    "                            cv=repeated_cv, scoring=kappa_scorer)\n",
    "knn_grid_obj.fit(X_train, np.ravel(y_train))"
   ]
  },
  {
   "cell_type": "code",
   "execution_count": 39,
   "metadata": {
    "ExecuteTime": {
     "end_time": "2018-12-25T16:23:30.873724Z",
     "start_time": "2018-12-25T16:23:30.820504Z"
    }
   },
   "outputs": [
    {
     "name": "stdout",
     "output_type": "stream",
     "text": [
      "---------------------------------------------------------\n",
      "|                  Internal Validation                  |\n",
      "---------------------------------------------------------\n",
      "\n",
      "Grid scores on training set:\n",
      "\n",
      "| cohen_kappa_score |\n",
      "---------------------\n",
      "0.97627768 (+/-0.066) for {'n_neighbors': 5}\n",
      "0.97186607 (+/-0.065) for {'n_neighbors': 7}\n",
      "0.96635706 (+/-0.066) for {'n_neighbors': 9}\n",
      "0.96496807 (+/-0.069) for {'n_neighbors': 11}\n",
      "0.96787031 (+/-0.064) for {'n_neighbors': 13}\n",
      "0.96438104 (+/-0.073) for {'n_neighbors': 15}\n",
      "0.96368263 (+/-0.074) for {'n_neighbors': 17}\n",
      "0.96290442 (+/-0.075) for {'n_neighbors': 19}\n",
      "\n",
      "Best parameters set found on training set for metric cohen_kappa_score:\n",
      "{'n_neighbors': 5}\n",
      "cohen_kappa_score: 0.9762776791800931\n",
      "\n",
      "---------------------------------------------------------\n",
      "|                  External Validation                  |\n",
      "---------------------------------------------------------\n",
      "\n",
      "Confusion matrix:\n",
      "[[60  0  0  0  1]\n",
      " [ 0 16  0  0  0]\n",
      " [ 0  0 28  0  0]\n",
      " [ 0  0  0 33  0]\n",
      " [ 0  0  0  0 23]]\n",
      "\n",
      "              precision    recall  f1-score   support\n",
      "\n",
      "        BRCA       1.00      0.98      0.99        61\n",
      "        COAD       1.00      1.00      1.00        16\n",
      "        KIRC       1.00      1.00      1.00        28\n",
      "        LUAD       1.00      1.00      1.00        33\n",
      "        PRAD       0.96      1.00      0.98        23\n",
      "\n",
      "   micro avg       0.99      0.99      0.99       161\n",
      "   macro avg       0.99      1.00      0.99       161\n",
      "weighted avg       0.99      0.99      0.99       161\n",
      "\n",
      "\n",
      "cohen_kappa_score on the testing set:\n",
      "0.9917773237997957\n",
      "\n"
     ]
    }
   ],
   "source": [
    "# Mostramos los resultados\n",
    "print_GridSearchCV_results(knn_grid_obj, X_test, y_test)"
   ]
  },
  {
   "cell_type": "markdown",
   "metadata": {},
   "source": [
    "### Redes neuronales (NN)"
   ]
  },
  {
   "cell_type": "code",
   "execution_count": 40,
   "metadata": {
    "ExecuteTime": {
     "end_time": "2018-12-25T16:23:36.889591Z",
     "start_time": "2018-12-25T16:23:36.879506Z"
    }
   },
   "outputs": [],
   "source": [
    "# Seleccionamos como clasificador: NN\n",
    "nn_clf = MLPClassifier(random_state=122)\n",
    "\n",
    "# Seleccionamos algunos parámetros para probar\n",
    "# hidden_layer_sizes indica el número de neuronas en cada capa oculta, mediante una tupla\n",
    "nn_parameters = {'hidden_layer_sizes': [(9,), (13,), (7,), (21,), (25,), (29,)],  # solo probamos con una capa oculta\n",
    "                 'activation': ['relu', 'logistic'],  # función de activación\n",
    "                 'solver': ['sgd', 'adam'],  # solver for weight optimization\n",
    "                 'learning_rate_init': [0.01],\n",
    "                 'max_iter': [300]\n",
    "                 }"
   ]
  },
  {
   "cell_type": "code",
   "execution_count": 41,
   "metadata": {
    "ExecuteTime": {
     "end_time": "2018-12-25T16:30:06.227963Z",
     "start_time": "2018-12-25T16:23:38.001035Z"
    },
    "scrolled": true
   },
   "outputs": [
    {
     "data": {
      "text/plain": [
       "GridSearchCV(cv=<sklearn.model_selection._split.RepeatedKFold object at 0x1a24cb54e0>,\n",
       "       error_score='raise-deprecating',\n",
       "       estimator=MLPClassifier(activation='relu', alpha=0.0001, batch_size='auto', beta_1=0.9,\n",
       "       beta_2=0.999, early_stopping=False, epsilon=1e-08,\n",
       "       hidden_layer_sizes=(100,), learning_rate='constant',\n",
       "       learning_rate_init=0.001, max_iter=200, momentum=0.9,\n",
       "       n_iter_no_change=10, nesterovs_momentum=True, power_t=0.5,\n",
       "       random_state=122, shuffle=True, solver='adam', tol=0.0001,\n",
       "       validation_fraction=0.1, verbose=False, warm_start=False),\n",
       "       fit_params=None, iid='warn', n_jobs=None,\n",
       "       param_grid={'hidden_layer_sizes': [(9,), (13,), (7,), (21,), (25,), (29,)], 'activation': ['relu', 'logistic'], 'solver': ['sgd', 'adam'], 'learning_rate_init': [0.01], 'max_iter': [300]},\n",
       "       pre_dispatch='2*n_jobs', refit=True, return_train_score='warn',\n",
       "       scoring=make_scorer(cohen_kappa_score), verbose=0)"
      ]
     },
     "execution_count": 41,
     "metadata": {},
     "output_type": "execute_result"
    }
   ],
   "source": [
    "# Utilizamos GridSearchCV para evaluar las combinaciones de los parámetros,\n",
    "# usando el esquema de validación cruzada definido previamente (3 rep, k=20)\n",
    "nn_grid_obj = GridSearchCV(nn_clf, nn_parameters,\n",
    "                           cv=repeated_cv, scoring=kappa_scorer)\n",
    "nn_grid_obj.fit(X_train, np.ravel(y_train))"
   ]
  },
  {
   "cell_type": "code",
   "execution_count": 42,
   "metadata": {
    "ExecuteTime": {
     "end_time": "2018-12-25T16:30:16.654503Z",
     "start_time": "2018-12-25T16:30:16.629496Z"
    }
   },
   "outputs": [
    {
     "name": "stdout",
     "output_type": "stream",
     "text": [
      "---------------------------------------------------------\n",
      "|                  Internal Validation                  |\n",
      "---------------------------------------------------------\n",
      "\n",
      "Grid scores on training set:\n",
      "\n",
      "| cohen_kappa_score |\n",
      "---------------------\n",
      "0.00000000 (+/-0.000) for {'activation': 'relu', 'hidden_layer_sizes': (9,), 'learning_rate_init': 0.01, 'max_iter': 300, 'solver': 'sgd'}\n",
      "0.00000000 (+/-0.000) for {'activation': 'relu', 'hidden_layer_sizes': (9,), 'learning_rate_init': 0.01, 'max_iter': 300, 'solver': 'adam'}\n",
      "0.00000000 (+/-0.000) for {'activation': 'relu', 'hidden_layer_sizes': (13,), 'learning_rate_init': 0.01, 'max_iter': 300, 'solver': 'sgd'}\n",
      "0.94061659 (+/-0.117) for {'activation': 'relu', 'hidden_layer_sizes': (13,), 'learning_rate_init': 0.01, 'max_iter': 300, 'solver': 'adam'}\n",
      "0.00000000 (+/-0.000) for {'activation': 'relu', 'hidden_layer_sizes': (7,), 'learning_rate_init': 0.01, 'max_iter': 300, 'solver': 'sgd'}\n",
      "0.00000000 (+/-0.000) for {'activation': 'relu', 'hidden_layer_sizes': (7,), 'learning_rate_init': 0.01, 'max_iter': 300, 'solver': 'adam'}\n",
      "0.00000000 (+/-0.000) for {'activation': 'relu', 'hidden_layer_sizes': (21,), 'learning_rate_init': 0.01, 'max_iter': 300, 'solver': 'sgd'}\n",
      "0.89940532 (+/-0.179) for {'activation': 'relu', 'hidden_layer_sizes': (21,), 'learning_rate_init': 0.01, 'max_iter': 300, 'solver': 'adam'}\n",
      "0.00000000 (+/-0.000) for {'activation': 'relu', 'hidden_layer_sizes': (25,), 'learning_rate_init': 0.01, 'max_iter': 300, 'solver': 'sgd'}\n",
      "0.92536669 (+/-0.114) for {'activation': 'relu', 'hidden_layer_sizes': (25,), 'learning_rate_init': 0.01, 'max_iter': 300, 'solver': 'adam'}\n",
      "0.00000000 (+/-0.000) for {'activation': 'relu', 'hidden_layer_sizes': (29,), 'learning_rate_init': 0.01, 'max_iter': 300, 'solver': 'sgd'}\n",
      "0.95518608 (+/-0.089) for {'activation': 'relu', 'hidden_layer_sizes': (29,), 'learning_rate_init': 0.01, 'max_iter': 300, 'solver': 'adam'}\n",
      "0.56629118 (+/-0.601) for {'activation': 'logistic', 'hidden_layer_sizes': (9,), 'learning_rate_init': 0.01, 'max_iter': 300, 'solver': 'sgd'}\n",
      "0.19367783 (+/-0.475) for {'activation': 'logistic', 'hidden_layer_sizes': (9,), 'learning_rate_init': 0.01, 'max_iter': 300, 'solver': 'adam'}\n",
      "0.97929788 (+/-0.109) for {'activation': 'logistic', 'hidden_layer_sizes': (13,), 'learning_rate_init': 0.01, 'max_iter': 300, 'solver': 'sgd'}\n",
      "0.72038254 (+/-0.494) for {'activation': 'logistic', 'hidden_layer_sizes': (13,), 'learning_rate_init': 0.01, 'max_iter': 300, 'solver': 'adam'}\n",
      "0.95661831 (+/-0.125) for {'activation': 'logistic', 'hidden_layer_sizes': (7,), 'learning_rate_init': 0.01, 'max_iter': 300, 'solver': 'sgd'}\n",
      "0.44191166 (+/-0.586) for {'activation': 'logistic', 'hidden_layer_sizes': (7,), 'learning_rate_init': 0.01, 'max_iter': 300, 'solver': 'adam'}\n",
      "0.97824497 (+/-0.055) for {'activation': 'logistic', 'hidden_layer_sizes': (21,), 'learning_rate_init': 0.01, 'max_iter': 300, 'solver': 'sgd'}\n",
      "0.83321778 (+/-0.432) for {'activation': 'logistic', 'hidden_layer_sizes': (21,), 'learning_rate_init': 0.01, 'max_iter': 300, 'solver': 'adam'}\n",
      "0.96913523 (+/-0.061) for {'activation': 'logistic', 'hidden_layer_sizes': (25,), 'learning_rate_init': 0.01, 'max_iter': 300, 'solver': 'sgd'}\n",
      "0.82905819 (+/-0.456) for {'activation': 'logistic', 'hidden_layer_sizes': (25,), 'learning_rate_init': 0.01, 'max_iter': 300, 'solver': 'adam'}\n",
      "0.97547992 (+/-0.060) for {'activation': 'logistic', 'hidden_layer_sizes': (29,), 'learning_rate_init': 0.01, 'max_iter': 300, 'solver': 'sgd'}\n",
      "0.91398610 (+/-0.284) for {'activation': 'logistic', 'hidden_layer_sizes': (29,), 'learning_rate_init': 0.01, 'max_iter': 300, 'solver': 'adam'}\n",
      "\n",
      "Best parameters set found on training set for metric cohen_kappa_score:\n",
      "{'activation': 'logistic', 'hidden_layer_sizes': (13,), 'learning_rate_init': 0.01, 'max_iter': 300, 'solver': 'sgd'}\n",
      "cohen_kappa_score: 0.9792978822933139\n",
      "\n",
      "---------------------------------------------------------\n",
      "|                  External Validation                  |\n",
      "---------------------------------------------------------\n",
      "\n",
      "Confusion matrix:\n",
      "[[60  0  0  1  0]\n",
      " [ 0 16  0  0  0]\n",
      " [ 0  0 28  0  0]\n",
      " [ 0  0  0 33  0]\n",
      " [ 0  0  0  0 23]]\n",
      "\n",
      "              precision    recall  f1-score   support\n",
      "\n",
      "        BRCA       1.00      0.98      0.99        61\n",
      "        COAD       1.00      1.00      1.00        16\n",
      "        KIRC       1.00      1.00      1.00        28\n",
      "        LUAD       0.97      1.00      0.99        33\n",
      "        PRAD       1.00      1.00      1.00        23\n",
      "\n",
      "   micro avg       0.99      0.99      0.99       161\n",
      "   macro avg       0.99      1.00      1.00       161\n",
      "weighted avg       0.99      0.99      0.99       161\n",
      "\n",
      "\n",
      "cohen_kappa_score on the testing set:\n",
      "0.9917731221257026\n",
      "\n"
     ]
    }
   ],
   "source": [
    "# Mostramos los resultados\n",
    "print_GridSearchCV_results(nn_grid_obj, X_test, y_test)"
   ]
  },
  {
   "cell_type": "markdown",
   "metadata": {},
   "source": [
    "### Máquinas de vector soporte (SVM)"
   ]
  },
  {
   "cell_type": "code",
   "execution_count": 43,
   "metadata": {
    "ExecuteTime": {
     "end_time": "2018-12-25T16:30:20.613046Z",
     "start_time": "2018-12-25T16:30:20.609040Z"
    }
   },
   "outputs": [],
   "source": [
    "# Seleccionamos como clasificador: SVM\n",
    "svm_clf = LinearSVC(random_state=122)\n",
    "\n",
    "# Seleccionamos algunos parámetros para probar\n",
    "svm_parameters = {'C': [0.001, 0.005, 0.01, 0.05, 0.1, 0.5, 1, 5]}"
   ]
  },
  {
   "cell_type": "code",
   "execution_count": 44,
   "metadata": {
    "ExecuteTime": {
     "end_time": "2018-12-25T16:31:03.995614Z",
     "start_time": "2018-12-25T16:30:21.920945Z"
    }
   },
   "outputs": [
    {
     "data": {
      "text/plain": [
       "GridSearchCV(cv=<sklearn.model_selection._split.RepeatedKFold object at 0x1a24cb54e0>,\n",
       "       error_score='raise-deprecating',\n",
       "       estimator=LinearSVC(C=1.0, class_weight=None, dual=True, fit_intercept=True,\n",
       "     intercept_scaling=1, loss='squared_hinge', max_iter=1000,\n",
       "     multi_class='ovr', penalty='l2', random_state=122, tol=0.0001,\n",
       "     verbose=0),\n",
       "       fit_params=None, iid='warn', n_jobs=None,\n",
       "       param_grid={'C': [0.001, 0.005, 0.01, 0.05, 0.1, 0.5, 1, 5]},\n",
       "       pre_dispatch='2*n_jobs', refit=True, return_train_score='warn',\n",
       "       scoring=make_scorer(cohen_kappa_score), verbose=0)"
      ]
     },
     "execution_count": 44,
     "metadata": {},
     "output_type": "execute_result"
    }
   ],
   "source": [
    "# Utilizamos GridSearchCV para evaluar las combinaciones de los parámetros,\n",
    "# usando el esquema de validación cruzada definido previamente (3 rep, k=20)\n",
    "svm_grid_obj = GridSearchCV(svm_clf, svm_parameters,\n",
    "                            cv=repeated_cv, scoring=kappa_scorer)\n",
    "svm_grid_obj.fit(X_train, np.ravel(y_train))"
   ]
  },
  {
   "cell_type": "code",
   "execution_count": 45,
   "metadata": {
    "ExecuteTime": {
     "end_time": "2018-12-25T16:31:13.554712Z",
     "start_time": "2018-12-25T16:31:13.536282Z"
    },
    "scrolled": false
   },
   "outputs": [
    {
     "name": "stdout",
     "output_type": "stream",
     "text": [
      "---------------------------------------------------------\n",
      "|                  Internal Validation                  |\n",
      "---------------------------------------------------------\n",
      "\n",
      "Grid scores on training set:\n",
      "\n",
      "| cohen_kappa_score |\n",
      "---------------------\n",
      "0.97382074 (+/-0.056) for {'C': 0.001}\n",
      "0.97812233 (+/-0.055) for {'C': 0.005}\n",
      "0.98168612 (+/-0.052) for {'C': 0.01}\n",
      "0.98098954 (+/-0.050) for {'C': 0.05}\n",
      "0.98026588 (+/-0.050) for {'C': 0.1}\n",
      "0.97889462 (+/-0.050) for {'C': 0.5}\n",
      "0.97889462 (+/-0.050) for {'C': 1}\n",
      "0.97889462 (+/-0.050) for {'C': 5}\n",
      "\n",
      "Best parameters set found on training set for metric cohen_kappa_score:\n",
      "{'C': 0.01}\n",
      "cohen_kappa_score: 0.9816861196442964\n",
      "\n",
      "---------------------------------------------------------\n",
      "|                  External Validation                  |\n",
      "---------------------------------------------------------\n",
      "\n",
      "Confusion matrix:\n",
      "[[61  0  0  0  0]\n",
      " [ 0 16  0  0  0]\n",
      " [ 0  0 28  0  0]\n",
      " [ 0  0  0 33  0]\n",
      " [ 0  0  0  0 23]]\n",
      "\n",
      "              precision    recall  f1-score   support\n",
      "\n",
      "        BRCA       1.00      1.00      1.00        61\n",
      "        COAD       1.00      1.00      1.00        16\n",
      "        KIRC       1.00      1.00      1.00        28\n",
      "        LUAD       1.00      1.00      1.00        33\n",
      "        PRAD       1.00      1.00      1.00        23\n",
      "\n",
      "   micro avg       1.00      1.00      1.00       161\n",
      "   macro avg       1.00      1.00      1.00       161\n",
      "weighted avg       1.00      1.00      1.00       161\n",
      "\n",
      "\n",
      "cohen_kappa_score on the testing set:\n",
      "1.0\n",
      "\n"
     ]
    }
   ],
   "source": [
    "# Mostramos los resultados\n",
    "print_GridSearchCV_results(svm_grid_obj, X_test, y_test)"
   ]
  },
  {
   "cell_type": "markdown",
   "metadata": {},
   "source": [
    "## Comparación de los modelos"
   ]
  },
  {
   "cell_type": "code",
   "execution_count": 46,
   "metadata": {
    "ExecuteTime": {
     "end_time": "2018-12-25T16:31:16.623593Z",
     "start_time": "2018-12-25T16:31:16.619730Z"
    }
   },
   "outputs": [],
   "source": [
    "kappaSVM = 1.0\n",
    "kappaKNN = 0.9917773237997957\n",
    "kappaNN = 0.9917731221257026\n",
    "kappaDT = 0.8679177562426293"
   ]
  },
  {
   "cell_type": "markdown",
   "metadata": {},
   "source": [
    "Los modelos con mayor valor Kappa son SVM y kNN. Vamos a realizar un test binomial para ver si hay diferencias significaticas entre ellos."
   ]
  },
  {
   "cell_type": "code",
   "execution_count": 47,
   "metadata": {
    "ExecuteTime": {
     "end_time": "2018-12-25T16:31:17.682541Z",
     "start_time": "2018-12-25T16:31:17.677828Z"
    }
   },
   "outputs": [],
   "source": [
    "def binomial_test(percentage_success1, percentage_success2, testing_data=X_test):\n",
    "    testing_data_length = testing_data.shape[0]\n",
    "    num_successes = round(percentage_success1 * testing_data_length)\n",
    "    num_failures = testing_data_length - num_successes\n",
    "\n",
    "    return binom_test([num_successes, num_failures], p=percentage_success2)"
   ]
  },
  {
   "cell_type": "code",
   "execution_count": 48,
   "metadata": {
    "ExecuteTime": {
     "end_time": "2018-12-25T16:31:18.507274Z",
     "start_time": "2018-12-25T16:31:18.500423Z"
    },
    "scrolled": true
   },
   "outputs": [
    {
     "data": {
      "text/plain": [
       "0.6467298458199087"
      ]
     },
     "execution_count": 48,
     "metadata": {},
     "output_type": "execute_result"
    }
   ],
   "source": [
    "binomial_test(kappaSVM, kappaKNN)"
   ]
  },
  {
   "cell_type": "markdown",
   "metadata": {},
   "source": [
    "El p-valor es >= 0.05, por lo que no hay una diferencia significativa entre SVM y kNN."
   ]
  },
  {
   "cell_type": "code",
   "execution_count": 49,
   "metadata": {
    "ExecuteTime": {
     "end_time": "2018-12-25T16:31:20.005277Z",
     "start_time": "2018-12-25T16:31:19.996683Z"
    }
   },
   "outputs": [
    {
     "data": {
      "text/plain": [
       "0.6467888325125812"
      ]
     },
     "execution_count": 49,
     "metadata": {},
     "output_type": "execute_result"
    }
   ],
   "source": [
    "binomial_test(kappaSVM, kappaNN)"
   ]
  },
  {
   "cell_type": "markdown",
   "metadata": {
    "ExecuteTime": {
     "end_time": "2018-12-24T23:53:53.785923Z",
     "start_time": "2018-12-24T23:53:53.774219Z"
    }
   },
   "source": [
    "El p-valor es >= 0.05, por lo que no hay una diferencia significativa entre SVM y NN."
   ]
  },
  {
   "cell_type": "code",
   "execution_count": 50,
   "metadata": {
    "ExecuteTime": {
     "end_time": "2018-12-25T16:31:23.179321Z",
     "start_time": "2018-12-25T16:31:23.172067Z"
    }
   },
   "outputs": [
    {
     "data": {
      "text/plain": [
       "2.349145228157754e-10"
      ]
     },
     "execution_count": 50,
     "metadata": {},
     "output_type": "execute_result"
    }
   ],
   "source": [
    "binomial_test(kappaSVM, kappaDT)"
   ]
  },
  {
   "cell_type": "markdown",
   "metadata": {
    "ExecuteTime": {
     "end_time": "2018-12-24T23:54:21.330965Z",
     "start_time": "2018-12-24T23:54:21.325794Z"
    }
   },
   "source": [
    "El p-valor es < 0.05, por lo que hay una diferencia significativa entre SVM y DT."
   ]
  },
  {
   "cell_type": "markdown",
   "metadata": {},
   "source": [
    "## Interpretación de la comparación y elección del modelo"
   ]
  },
  {
   "cell_type": "markdown",
   "metadata": {
    "ExecuteTime": {
     "end_time": "2018-12-25T12:09:00.469999Z",
     "start_time": "2018-12-25T12:09:00.452868Z"
    }
   },
   "source": [
    "Por tanto, entre los modelos SVM, kNN y NN podemos observar como no hay diferencias significativas en el valor de Kappa, mientras que entre SVM y DT sí las hay.\n",
    "\n",
    "La decisión de qué modelo escoger estará entonces entre SVM, kNN y NN. El principio de la navaja de Ockham nos dice que, en condiciones similares, escojamos el modelo más simple. kNN es el modelo más sencillo, sin embargo, aunque los 3 modelos tengan un valor de Kappa similar, hay otras diferencias importantes entre ellos.\n",
    "\n",
    "El modelo con menor tiempo de entrenamiento es kNN (en realidad no hay modelo, sino que simplemente se selecciona un valor de k), seguido muy de cerca por SVM. NN tiene un tiempo de entrenamiento muy alto en comparación con los otros. kNN es más lento a la hora de realizar las predicciones, ya que tiene que calcular la distancia a cada instancia del conjunto entrenamiento en el momento de la predicción. Además, hemos resuelto un problema reducido el problema real, con apenas 100 variables de las 20500 que tiene realmente. Si consideramos que las 20500 variables son relevantes y deben usarse para entrenar el modelo, SVM sería un buen paradigma a utilizar, dado que escala bien para problemas con alta dimensionalidad, mientras que kNN seguramente tendría más problemas con tal cantidad de variables. Tampoco hemos tenido la necesidad de utilizar una función de kernel, por lo que el SVM es, dentro de lo que cabe, simple. Además, en las NN hay muchos parámetros que ajustar, mientras que en kNN y SVM (lineal) tenemos un único parámetro principal, k y C respectivamente.\n",
    "\n",
    "Por tanto, el modelo final seleccionado será el SVM. Tiene un tiempo de entrenamiento muy similar a kNN, tarda menos que kNN en realizar las predicciones, tiene pocos parámetros que ajustar, y tendrá menos problemas si se incrementa el número de variables."
   ]
  },
  {
   "cell_type": "markdown",
   "metadata": {},
   "source": [
    "## Comparación R/caret y Python/scikit-learn"
   ]
  },
  {
   "cell_type": "markdown",
   "metadata": {},
   "source": [
    "* R es un lenguaje más procedular, mientras que Python es un lenguaje más Orientado a Objetos.\n",
    "* Python tiene un código más limpio y entendible, dado que es un lenguaje más mordeno, por lo que es más sencillo de aprender. En cambio, la sintaxis de R es menos intuitiva.\n",
    "* Python es un lenguaje de propósito general, mientras que R está especializado en temas estadísticos . Por tanto, hay tareas que en R son más simples de hacer, muchas veces sin necesidad de importar librerías. Por otro lado, en Python es más sencillo integrar los modelos en aplicaciones y pasarlos a producción.\n",
    "* R tiene integrados los dataframes, mientras que con Python es necesario utilizar librerías externas para tratar facilmente con ellos, como Pandas.\n",
    "* R es mejor para analizar los datos y prepararlos, realizar análisis estadísticos y visualizaciones.\n",
    "* Caret resulta más sencillo para generar y evaluar los modelos, sobretodo al empezar, pero también está algo más limitado. Scikit-learn ofrece más opciones.\n",
    "* Scikit-learn tiene una comunidad de desarrolladores mucho mayor."
   ]
  }
 ],
 "metadata": {
  "hide_input": false,
  "kernelspec": {
   "display_name": "Python 3",
   "language": "python",
   "name": "python3"
  },
  "language_info": {
   "codemirror_mode": {
    "name": "ipython",
    "version": 3
   },
   "file_extension": ".py",
   "mimetype": "text/x-python",
   "name": "python",
   "nbconvert_exporter": "python",
   "pygments_lexer": "ipython3",
   "version": "3.6.6"
  },
  "latex_metadata": {
   "author": "Carlos Sanabria Miranda",
   "title": "Aprendizaje automático: Opcional scikit-learn"
  },
  "toc": {
   "base_numbering": 1,
   "nav_menu": {},
   "number_sections": true,
   "sideBar": true,
   "skip_h1_title": false,
   "title_cell": "Table of Contents",
   "title_sidebar": "Contents",
   "toc_cell": false,
   "toc_position": {
    "height": "calc(100% - 180px)",
    "left": "10px",
    "top": "150px",
    "width": "336px"
   },
   "toc_section_display": true,
   "toc_window_display": true
  },
  "varInspector": {
   "cols": {
    "lenName": 16,
    "lenType": 16,
    "lenVar": 40
   },
   "kernels_config": {
    "python": {
     "delete_cmd_postfix": "",
     "delete_cmd_prefix": "del ",
     "library": "var_list.py",
     "varRefreshCmd": "print(var_dic_list())"
    },
    "r": {
     "delete_cmd_postfix": ") ",
     "delete_cmd_prefix": "rm(",
     "library": "var_list.r",
     "varRefreshCmd": "cat(var_dic_list()) "
    }
   },
   "position": {
    "height": "335px",
    "left": "266px",
    "right": "974px",
    "top": "550px",
    "width": "440px"
   },
   "types_to_exclude": [
    "module",
    "function",
    "builtin_function_or_method",
    "instance",
    "_Feature"
   ],
   "window_display": false
  }
 },
 "nbformat": 4,
 "nbformat_minor": 2
}
